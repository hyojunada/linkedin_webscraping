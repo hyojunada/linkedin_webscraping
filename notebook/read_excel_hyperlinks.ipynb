{
 "cells": [
  {
   "cell_type": "code",
   "execution_count": 14,
   "metadata": {
    "ExecuteTime": {
     "end_time": "2020-10-02T15:10:28.862852Z",
     "start_time": "2020-10-02T15:10:28.841278Z"
    }
   },
   "outputs": [],
   "source": [
    "import openpyxl\n",
    "import numpy as np\n",
    "import dill as pickle\n"
   ]
  },
  {
   "cell_type": "code",
   "execution_count": 5,
   "metadata": {
    "ExecuteTime": {
     "end_time": "2020-10-02T14:53:11.550028Z",
     "start_time": "2020-10-02T14:53:11.528049Z"
    }
   },
   "outputs": [
    {
     "name": "stderr",
     "output_type": "stream",
     "text": [
      "<ipython-input-5-4eda331d5cf8>:2: DeprecationWarning: Call to deprecated function get_sheet_by_name (Use wb[sheetname]).\n",
      "  ws = wb.get_sheet_by_name('Current employee')\n"
     ]
    }
   ],
   "source": [
    "wb = openpyxl.load_workbook('/Users/alee/Downloads/Recruiting Analysis - IDEO SH.xlsx')\n",
    "ws = wb.get_sheet_by_name('Current employee')\n"
   ]
  },
  {
   "cell_type": "code",
   "execution_count": 16,
   "metadata": {
    "ExecuteTime": {
     "end_time": "2020-10-02T15:11:47.080958Z",
     "start_time": "2020-10-02T15:11:47.074767Z"
    }
   },
   "outputs": [],
   "source": [
    "hyperlinks = []\n",
    "for i in np.arange(2, 60, 1):\n",
    "    try:\n",
    "        hyperlinks.append(ws.cell(row=i, column=2).hyperlink.target)\n",
    "    except AttributeError:\n",
    "        pass\n",
    "with open('../data/linkedin_profiles_rui.pkl', 'wb') as f:\n",
    "    pickle.dump(hyperlinks, f)"
   ]
  },
  {
   "cell_type": "markdown",
   "metadata": {
    "ExecuteTime": {
     "end_time": "2020-10-02T14:55:28.861472Z",
     "start_time": "2020-10-02T14:55:28.856080Z"
    }
   },
   "source": [
    "## List\n",
    "- Language\n",
    "- Years of experience\n",
    "- Previous level\n",
    "- Work experience in China\n",
    "- Countries worked in\n",
    "- List of companies\n",
    "- Location of Education\n",
    "- Highest degree attained\n",
    "- Name of schools went to \n"
   ]
  },
  {
   "cell_type": "code",
   "execution_count": 18,
   "metadata": {
    "ExecuteTime": {
     "end_time": "2020-10-02T17:58:45.420454Z",
     "start_time": "2020-10-02T17:58:45.373599Z"
    }
   },
   "outputs": [
    {
     "name": "stdout",
     "output_type": "stream",
     "text": [
      "4.225047764984758\n",
      "3.845974330032502\n",
      "2.3532984697951385\n",
      "3.7408019918831252\n",
      "3.790808521026085\n",
      "3.2644589614634882\n",
      "4.840023476764179\n",
      "3.094684750101092\n",
      "2.3723925478023706\n",
      "1.1920906672988658\n"
     ]
    }
   ],
   "source": [
    "import random\n",
    "\n",
    "for _ in range(10):\n",
    "    print(random.uniform(1, 5))"
   ]
  },
  {
   "cell_type": "code",
   "execution_count": null,
   "metadata": {},
   "outputs": [],
   "source": []
  }
 ],
 "metadata": {
  "kernelspec": {
   "display_name": "Python 3",
   "language": "python",
   "name": "python3"
  },
  "language_info": {
   "codemirror_mode": {
    "name": "ipython",
    "version": 3
   },
   "file_extension": ".py",
   "mimetype": "text/x-python",
   "name": "python",
   "nbconvert_exporter": "python",
   "pygments_lexer": "ipython3",
   "version": "3.8.1"
  },
  "toc": {
   "base_numbering": 1,
   "nav_menu": {},
   "number_sections": true,
   "sideBar": true,
   "skip_h1_title": false,
   "title_cell": "Table of Contents",
   "title_sidebar": "Contents",
   "toc_cell": false,
   "toc_position": {},
   "toc_section_display": true,
   "toc_window_display": false
  }
 },
 "nbformat": 4,
 "nbformat_minor": 4
}
