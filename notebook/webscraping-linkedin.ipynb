{
 "cells": [
  {
   "cell_type": "code",
   "execution_count": 88,
   "metadata": {
    "ExecuteTime": {
     "end_time": "2020-10-02T18:02:20.557609Z",
     "start_time": "2020-10-02T18:02:20.551459Z"
    }
   },
   "outputs": [],
   "source": [
    "from selenium import webdriver\n",
    "from selenium.webdriver.common.keys import Keys\n",
    "import time\n",
    "import csv\n",
    "from parsel import Selector\n",
    "from selenium import webdriver\n",
    "from selenium.webdriver.common.keys import Keys\n",
    "import pickle\n",
    "import re\n",
    "import pandas as pd\n",
    "from bs4 import BeautifulSoup\n",
    "from webdriver_manager.chrome import ChromeDriverManager\n",
    "from random import randint, shuffle\n",
    "from datetime import date\n",
    "import dill as pickle\n",
    "from collections import defaultdict\n",
    "import datetime\n",
    "import random"
   ]
  },
  {
   "cell_type": "code",
   "execution_count": 4,
   "metadata": {
    "ExecuteTime": {
     "end_time": "2020-10-02T16:09:15.455420Z",
     "start_time": "2020-10-02T16:09:15.448562Z"
    }
   },
   "outputs": [],
   "source": [
    "from dotenv import load_dotenv\n",
    "import os \n",
    "import sys\n",
    "\n",
    "src_dir = os.path.abspath(os.path.join(os.pardir, 'src'))\n",
    "sys.path[0] = src_dir\n",
    "import paths\n",
    "\n",
    "load_dotenv(dotenv_path=os.path.join(paths.repository_root, '.env'))\n",
    "user_id = os.getenv('USER_EMAIL')\n",
    "user_pw = os.getenv('PASSWORD')"
   ]
  },
  {
   "cell_type": "markdown",
   "metadata": {},
   "source": [
    "# Get linked in profiles from Google"
   ]
  },
  {
   "cell_type": "code",
   "execution_count": 5,
   "metadata": {
    "ExecuteTime": {
     "end_time": "2020-10-02T16:09:17.035058Z",
     "start_time": "2020-10-02T16:09:17.033067Z"
    }
   },
   "outputs": [],
   "source": [
    "location = 'Greater Chicago Area'\n",
    "query =  'site:linkedin.com/in/ AND \"interaction designer\" AND \"Chicago\"'"
   ]
  },
  {
   "cell_type": "code",
   "execution_count": 6,
   "metadata": {
    "ExecuteTime": {
     "end_time": "2020-10-02T16:09:17.550527Z",
     "start_time": "2020-10-02T16:09:17.546323Z"
    }
   },
   "outputs": [],
   "source": [
    "def open_driver():\n",
    "    options = webdriver.ChromeOptions()\n",
    "    options.add_experimental_option(\"excludeSwitches\", [\"enable-automation\"])\n",
    "    options.add_experimental_option('useAutomationExtension', False)\n",
    "    driver = webdriver.Chrome(ChromeDriverManager().install(), options=options)\n",
    "    driver.get(\"https://www.google.com/\")\n",
    "    return driver"
   ]
  },
  {
   "cell_type": "code",
   "execution_count": 100,
   "metadata": {
    "ExecuteTime": {
     "end_time": "2020-10-02T18:31:08.941336Z",
     "start_time": "2020-10-02T18:31:04.808982Z"
    }
   },
   "outputs": [
    {
     "name": "stderr",
     "output_type": "stream",
     "text": [
      "[WDM] - Looking for [chromedriver 85.0.4183.87 mac64] driver in cache \n",
      "[WDM] - File found in cache by path [/Users/alee/.wdm/drivers/chromedriver/85.0.4183.87/mac64/chromedriver]\n"
     ]
    }
   ],
   "source": [
    "driver = open_driver()\n"
   ]
  },
  {
   "cell_type": "code",
   "execution_count": 6,
   "metadata": {
    "ExecuteTime": {
     "end_time": "2020-09-22T21:59:33.790165Z",
     "start_time": "2020-09-22T21:59:33.778273Z"
    }
   },
   "outputs": [],
   "source": [
    "def get_linkedin_profile_urls(driver, query, end=10, sleep_time=3):\n",
    "    \"\"\"\n",
    "    get linkedin profile urls from google search\n",
    "    input:\n",
    "        driver: selenium driver\n",
    "        query: query for searching starts with site:linkedin.com/in/ \n",
    "        end: define how many urls we want\n",
    "    output:\n",
    "        linkedin_profile_urls: list of linkedin profile urls in string\n",
    "    \"\"\"\n",
    "    \n",
    "    linkedin_profile_urls = []\n",
    "    # find the search section of google\n",
    "    search_input = driver.find_element_by_name('q')\n",
    "    search_input.clear()\n",
    "    # search query \n",
    "    search_input.send_keys(query)\n",
    "    search_input.send_keys(Keys.RETURN)\n",
    "    \n",
    "    #result stats, get how many results that google estimates\n",
    "    result_stats = driver.find_element_by_id(\"result-stats\").text\n",
    "    result_num = re.findall(r'About (\\d+(?:,\\d+)?) results', result_stats)[0]\n",
    "    result_num = int(result_num.replace(',', ''))\n",
    "    \n",
    "    # iterate until the length of list meets our goal\n",
    "    page_num = 1\n",
    "    while len(linkedin_profile_urls) < end:\n",
    "        try:\n",
    "            time.sleep(3*sleep_time) # adding sleep time so that google doesn't reject us\n",
    "            # get profiles under class='r'\n",
    "            profiles = driver.find_elements_by_xpath('//*[@class=\"r\"]/a[1]')\n",
    "            linkedin_profile_urls.extend([p.get_attribute('href') for p in profiles])\n",
    "            linkedin_profile_urls = list(set(linkedin_profile_urls))\n",
    "            # if the list is larger than our goal, cut rest of it off\n",
    "            if len(linkedin_profile_urls) > end:\n",
    "                linkedin_profile_urls = linkedin_profile_urls[:end]\n",
    "                break\n",
    "            # scroll down to the end of page like humam\n",
    "            driver.execute_script(\"window.scrollTo(0, document.body.scrollHeight/4);\")\n",
    "            time.sleep(sleep_time)\n",
    "            driver.execute_script(\"window.scrollTo(0, document.body.scrollHeight/2);\")\n",
    "            time.sleep(sleep_time)\n",
    "            driver.execute_script(\"window.scrollTo(0, 3*document.body.scrollHeight/4);\")\n",
    "            time.sleep(sleep_time)\n",
    "            driver.execute_script(\"window.scrollTo(0, document.body.scrollHeight);\")\n",
    "            time.sleep(sleep_time)\n",
    "            # go to the next page\n",
    "            # keep track of page number so when google goes to captcha we can restart at the page we lost\n",
    "            page_num += 1\n",
    "            driver.find_element_by_id(\"pnnext\").click()\n",
    "        except:\n",
    "            # if google thinks we are going to fast, sleep it off. usually we need to refresh the driver\n",
    "            # need a better way \n",
    "            print(len(linkedin_profile_urls))\n",
    "            time.sleep(10*sleep_time)\n",
    "            print('restart')\n",
    "            driver.get(\"https://www.google.com/\")\n",
    "            search_input = driver.find_element_by_name('q')\n",
    "            search_input.clear()\n",
    "            # search query \n",
    "            search_input.send_keys(query)\n",
    "            search_input.send_keys(Keys.RETURN)\n",
    "            driver.find_element_by_id(\"pnnext\").click()\n",
    "            driver.find_element_by_xpath('//a[@aria-label=\"Page {}\"]'.format(page_num)).click()\n",
    "            continue\n",
    "    return linkedin_profile_urls, result_num"
   ]
  },
  {
   "cell_type": "code",
   "execution_count": 7,
   "metadata": {
    "ExecuteTime": {
     "end_time": "2020-09-22T22:00:07.775530Z",
     "start_time": "2020-09-22T21:59:34.706289Z"
    }
   },
   "outputs": [],
   "source": [
    "linkedin_profile_urls, result_num = get_linkedin_profile_urls(driver, query, 12)"
   ]
  },
  {
   "cell_type": "code",
   "execution_count": 8,
   "metadata": {
    "ExecuteTime": {
     "end_time": "2020-09-22T22:00:07.785509Z",
     "start_time": "2020-09-22T22:00:07.777492Z"
    }
   },
   "outputs": [
    {
     "data": {
      "text/plain": [
       "['https://www.linkedin.com/in/nada-dabbouseh',\n",
       " 'https://www.linkedin.com/in/geefit',\n",
       " 'https://www.linkedin.com/in/ansarileena',\n",
       " 'https://www.linkedin.com/in/tyler-stober-4010974a',\n",
       " 'https://www.linkedin.com/in/theresalundeen',\n",
       " 'https://www.linkedin.com/in/mabburke',\n",
       " 'https://www.linkedin.com/in/danifold',\n",
       " 'https://www.linkedin.com/in/corey-swimmer',\n",
       " 'https://www.linkedin.com/in/melissamanak',\n",
       " 'https://www.linkedin.com/in/thejustinwu',\n",
       " 'https://www.linkedin.com/in/jameszulkie',\n",
       " 'https://www.linkedin.com/in/nickrathert']"
      ]
     },
     "execution_count": 8,
     "metadata": {},
     "output_type": "execute_result"
    }
   ],
   "source": [
    "linkedin_profile_urls"
   ]
  },
  {
   "cell_type": "markdown",
   "metadata": {},
   "source": [
    "# Search LinkedIn"
   ]
  },
  {
   "cell_type": "code",
   "execution_count": 8,
   "metadata": {
    "ExecuteTime": {
     "end_time": "2020-10-02T16:09:36.057303Z",
     "start_time": "2020-10-02T16:09:36.054247Z"
    }
   },
   "outputs": [],
   "source": [
    "with open('../data/linkedin_profiles_rui.pkl', 'rb') as fp:\n",
    "    profile_urls = pickle.load(fp)"
   ]
  },
  {
   "cell_type": "code",
   "execution_count": 9,
   "metadata": {
    "ExecuteTime": {
     "end_time": "2020-10-02T16:09:37.866997Z",
     "start_time": "2020-10-02T16:09:37.854840Z"
    },
    "collapsed": true
   },
   "outputs": [
    {
     "data": {
      "text/plain": [
       "['https://www.linkedin.com/in/sammcmorran/',\n",
       " 'https://www.linkedin.com/in/peihwa-lan-5416b664/',\n",
       " 'https://www.linkedin.com/in/will-dai/',\n",
       " 'https://www.linkedin.com/in/xiaominliu516/',\n",
       " 'https://www.linkedin.com/in/faye-fei-zhao/',\n",
       " 'https://www.linkedin.com/in/weiyiping-huang-76801047/',\n",
       " 'https://www.linkedin.com/in/sean-fu-bab515176/',\n",
       " 'https://www.linkedin.com/in/kaiitu/',\n",
       " 'https://www.linkedin.com/in/wendy-wang-mertensmeyer-8386b018/',\n",
       " 'https://www.linkedin.com/in/victoria66/',\n",
       " 'https://www.linkedin.com/in/yeovanessa/',\n",
       " 'https://www.linkedin.com/in/brandon-ly-b8236344/',\n",
       " 'https://www.linkedin.com/in/violet-hill-05a7b0108/',\n",
       " 'https://www.linkedin.com/in/ailun-s-5a8368117/',\n",
       " 'https://www.linkedin.com/in/lin-zhang-62042870/',\n",
       " 'https://www.linkedin.com/in/bryantmao/',\n",
       " 'https://www.linkedin.com/in/yue-yuan-b3a853115/',\n",
       " 'https://www.linkedin.com/in/rui-xu-5130a799/',\n",
       " 'https://www.linkedin.com/in/lisa-xue-510a355b/',\n",
       " 'https://www.linkedin.com/in/kikozang/',\n",
       " 'https://www.linkedin.com/in/fionapay/',\n",
       " 'https://www.linkedin.com/in/danielcchuang/',\n",
       " 'https://www.linkedin.com/in/michelleshao/',\n",
       " 'https://www.linkedin.com/in/duartefederico/',\n",
       " 'https://www.linkedin.com/in/chuliduan/',\n",
       " 'https://www.linkedin.com/in/susie-wang/',\n",
       " 'https://www.linkedin.com/in/brianchien/',\n",
       " 'https://www.linkedin.com/in/yaochen2014/',\n",
       " 'https://www.linkedin.com/in/jasper-yang-77798a31/',\n",
       " 'https://www.linkedin.com/in/weiyi-li-%E6%9D%8E%E7%8E%AE%E4%BB%AA-69330235/',\n",
       " 'https://www.linkedin.com/in/eileen-wu-48457230/',\n",
       " 'https://www.linkedin.com/in/mark-logan-mp-6433636/',\n",
       " 'https://www.linkedin.com/in/sundaisy/',\n",
       " 'https://www.linkedin.com/in/yunna-tea-qiu-87a84022/',\n",
       " 'https://www.linkedin.com/in/hang-io-66904427/',\n",
       " 'https://www.linkedin.com/in/evan-zeng-9a045261/',\n",
       " 'https://www.linkedin.com/in/liu1988/',\n",
       " 'https://www.linkedin.com/in/fangting-gu/',\n",
       " 'https://www.linkedin.com/in/superita/',\n",
       " 'https://www.linkedin.com/in/ming1/',\n",
       " 'https://www.linkedin.com/in/changhaoting/',\n",
       " 'https://www.linkedin.com/in/simin-pan-77810a90/',\n",
       " 'https://www.linkedin.com/in/maggie-peng-ba06202/',\n",
       " 'https://www.linkedin.com/in/jaouiliu/',\n",
       " 'https://www.linkedin.com/in/siqi-wang-researcher/',\n",
       " 'https://www.linkedin.com/in/felix-cheng-0246a113/',\n",
       " 'https://www.linkedin.com/in/amyly/',\n",
       " 'https://www.linkedin.com/in/winston-chow-9811362/',\n",
       " 'https://www.linkedin.com/in/shenghunglee/',\n",
       " 'https://www.linkedin.com/in/mestrella/']"
      ]
     },
     "execution_count": 9,
     "metadata": {},
     "output_type": "execute_result"
    }
   ],
   "source": [
    "profile_urls"
   ]
  },
  {
   "cell_type": "code",
   "execution_count": 10,
   "metadata": {
    "ExecuteTime": {
     "end_time": "2020-10-02T16:09:45.111152Z",
     "start_time": "2020-10-02T16:09:45.106213Z"
    }
   },
   "outputs": [],
   "source": [
    "def login_linkedin(driver, linkedin_id, linkedin_pw):\n",
    "    driver.get('https://www.linkedin.com')\n",
    "    driver.find_element_by_xpath('//a[text()=\"Sign in\"]').click()\n",
    "    time.sleep(5)\n",
    "    username_input = driver.find_element_by_name('session_key')\n",
    "    username_input.send_keys(linkedin_id)\n",
    "\n",
    "    password_input = driver.find_element_by_name('session_password')\n",
    "    password_input.send_keys(linkedin_pw)\n",
    "    driver.find_element_by_xpath('//button[text()=\"Sign in\"]').click()\n",
    "    return driver"
   ]
  },
  {
   "cell_type": "code",
   "execution_count": 101,
   "metadata": {
    "ExecuteTime": {
     "end_time": "2020-10-02T18:31:23.732129Z",
     "start_time": "2020-10-02T18:31:16.628615Z"
    }
   },
   "outputs": [],
   "source": [
    "driver = login_linkedin(driver, user_id, user_pw)"
   ]
  },
  {
   "cell_type": "code",
   "execution_count": 75,
   "metadata": {
    "ExecuteTime": {
     "end_time": "2020-10-02T17:51:21.961323Z",
     "start_time": "2020-10-02T17:51:19.967200Z"
    }
   },
   "outputs": [],
   "source": [
    "profile = profile_urls[2]\n",
    "driver.get(profile)"
   ]
  },
  {
   "cell_type": "code",
   "execution_count": 76,
   "metadata": {
    "ExecuteTime": {
     "end_time": "2020-10-02T17:51:24.859047Z",
     "start_time": "2020-10-02T17:51:24.855740Z"
    }
   },
   "outputs": [],
   "source": [
    "\n",
    "def get_basic_info(driver, profile):\n",
    "    #linkedin url\n",
    "    ln_url = profile\n",
    "    #name \n",
    "    name = driver.find_element_by_xpath('//ul//li[@class=\"inline t-24 t-black t-normal break-words\"]').text\n",
    "    # current title\n",
    "    title = driver.find_element_by_xpath('//h2[@class=\"mt1 t-18 t-black t-normal break-words\"]').text\n",
    "    # location\n",
    "    location = driver.find_element_by_xpath('//ul//li[@class=\"t-16 t-black t-normal inline-block\"]').text\n",
    "    return name, title, location"
   ]
  },
  {
   "cell_type": "code",
   "execution_count": 81,
   "metadata": {
    "ExecuteTime": {
     "end_time": "2020-10-02T17:52:03.950088Z",
     "start_time": "2020-10-02T17:52:03.678268Z"
    }
   },
   "outputs": [],
   "source": [
    "def get_contacts(driver, profile, name):\n",
    "    contact_data = []\n",
    "    contact_link = driver.find_element_by_xpath('//a[@data-control-name=\"contact_see_more\"]')\n",
    "    contact_link.click()\n",
    "    time.sleep(3)\n",
    "    contacts = driver.find_elements_by_xpath(\"//a[contains(@class, 'pv-contact-info__contact-link')]\")#.get_attribute('href')\n",
    "    contacts = [i.get_attribute('href') for i in contacts]\n",
    "    other_contacts = [i for i in contacts if 'linkedin' not in i and '@' not in i]\n",
    "    emails = [i.replace('mailto:', '') for i in contacts if '@' in i]\n",
    "    driver.find_element_by_xpath('//button[@aria-label=\"Dismiss\"]').click()\n",
    "    for contact in emails+other_contacts:\n",
    "        contact_data.append([profile, name, contact])\n",
    "    return contact_data"
   ]
  },
  {
   "cell_type": "code",
   "execution_count": 17,
   "metadata": {
    "ExecuteTime": {
     "end_time": "2020-10-02T16:53:01.596330Z",
     "start_time": "2020-10-02T16:53:01.591861Z"
    }
   },
   "outputs": [],
   "source": [
    "\n",
    "def get_start_end_date(duration):\n",
    "    duration = duration.replace('Dates Employed\\n','')\n",
    "    start_date, end_date = duration.split(' – ')\n",
    "    start_date = datetime.datetime.strptime(start_date, '%b %Y').date()\n",
    "    if end_date == 'Present':\n",
    "        end_date = datetime.datetime.today().date()\n",
    "    else:\n",
    "        end_date = datetime.datetime.strptime(end_date, '%b %Y').date()\n",
    "    return start_date, end_date"
   ]
  },
  {
   "cell_type": "code",
   "execution_count": 64,
   "metadata": {
    "ExecuteTime": {
     "end_time": "2020-10-02T17:38:22.185450Z",
     "start_time": "2020-10-02T17:38:22.176435Z"
    },
    "scrolled": true
   },
   "outputs": [],
   "source": [
    "def get_experience(driver, profile, name):\n",
    "    experience_data = []\n",
    "    exp_section = driver.find_element_by_xpath('//section[@id=\"experience-section\"]')\n",
    "    experiences = exp_section.find_elements_by_xpath('.//li[@class=\"pv-entity__position-group-pager pv-profile-section__list-item ember-view\"]')\n",
    "    for i, exp in enumerate(experiences):\n",
    "        try: #when one only had one position\n",
    "            company = exp.find_element_by_xpath('.//a[@data-control-name=\"background_details_company\"]')\n",
    "            job_title = company.find_element_by_tag_name('h3').text.replace('Company Name\\n', '')\n",
    "            company_name = company.find_element_by_tag_name('img').get_attribute('alt')\n",
    "            duration = company.find_element_by_xpath('.//h4[contains(@class, \"pv-entity__date-range\")]').text\n",
    "            start_date, end_date = get_start_end_date(duration)\n",
    "            try:\n",
    "                location = company.find_element_by_xpath('.//h4[contains(@class, \"pv-entity__location\")]').text.replace('Location\\n', '')\n",
    "            except:\n",
    "                location = ''\n",
    "            experience_data.append([profile, name, company_name, job_title, start_date, end_date])\n",
    "        except: # when there were multiple positions\n",
    "            company = exp.find_element_by_xpath('.//section[contains(@class,\"pv-profile-section\")]')\n",
    "            company_name = company.find_element_by_tag_name('img').get_attribute('alt')\n",
    "            roles = company.find_elements_by_xpath('.//li[contains(@class, \"pv-entity__position\")]')\n",
    "            for r in roles:\n",
    "                job_title = r.find_element_by_tag_name('h3').text.replace('Title\\n', '')\n",
    "                duration = company.find_element_by_xpath('.//h4[contains(@class, \"pv-entity__date-range\")]').text\n",
    "                start_date, end_date = get_start_end_date(duration)\n",
    "                experience_data.append([profile, name, company_name, job_title, start_date, end_date])\n",
    "\n",
    "    return experience_data"
   ]
  },
  {
   "cell_type": "code",
   "execution_count": 120,
   "metadata": {
    "ExecuteTime": {
     "end_time": "2020-10-02T18:34:58.170415Z",
     "start_time": "2020-10-02T18:34:58.164374Z"
    }
   },
   "outputs": [],
   "source": [
    "def get_education(driver, profile, name):\n",
    "    education_data = []\n",
    "    education_section = driver.find_element_by_xpath('*//section[@id=\"education-section\"]')\n",
    "    educations = education_section.find_elements_by_xpath('.//li[contains(@class, \"pv-education-entity\")]')\n",
    "    for ed in educations:\n",
    "        school_name = ed.find_element_by_xpath('.//h3[contains(@class, pv-entity__school-name)]').text\n",
    "        ed_info = [e.text for e in ed.find_elements_by_xpath('.//p[contains(@class, pv-entity)]')]\n",
    "        degree = [i for i in ed_info if 'Degree Name' in i]\n",
    "        if len(degree) > 0:\n",
    "            degree = degree[0].replace('Degree Name\\n', '')\n",
    "        else:\n",
    "            degree = ''\n",
    "        fos = [i for i in ed_info if 'Field Of Study' in i]\n",
    "        if len(fos) > 0:\n",
    "            fos = fos[0].replace('Field Of Study\\n', '')\n",
    "        else:\n",
    "            fos = ''\n",
    "        date_range = [i for i in ed_info if 'Dates attended or expected graduation' in i]\n",
    "        if len(date_range) > 0:\n",
    "            date_range = date_range[0].replace('Dates attended or expected graduation\\n', '')\n",
    "            start_year, end_year = date_range.split(' – ')\n",
    "\n",
    "        else:\n",
    "            date_range = ''\n",
    "            start_year = None\n",
    "            end_year = None\n",
    "\n",
    "        education_data.append([profile, name, school_name, degree, fos, start_year, end_year])\n",
    "    return education_data"
   ]
  },
  {
   "cell_type": "code",
   "execution_count": 109,
   "metadata": {
    "ExecuteTime": {
     "end_time": "2020-10-02T18:32:39.478053Z",
     "start_time": "2020-10-02T18:32:39.474980Z"
    }
   },
   "outputs": [],
   "source": [
    "def get_language(driver):\n",
    "    try:\n",
    "        language = driver.find_element_by_xpath('.//div[@aria-labelledby=\"languages-title\"]').text\n",
    "    except:\n",
    "        language = ''\n",
    "    return language"
   ]
  },
  {
   "cell_type": "code",
   "execution_count": 108,
   "metadata": {
    "ExecuteTime": {
     "end_time": "2020-10-02T18:32:34.602619Z",
     "start_time": "2020-10-02T18:32:34.570225Z"
    }
   },
   "outputs": [
    {
     "data": {
      "text/plain": [
       "'English Korean'"
      ]
     },
     "execution_count": 108,
     "metadata": {},
     "output_type": "execute_result"
    }
   ],
   "source": [
    "get_language(driver).text"
   ]
  },
  {
   "cell_type": "code",
   "execution_count": 121,
   "metadata": {
    "ExecuteTime": {
     "end_time": "2020-10-02T18:35:32.848894Z",
     "start_time": "2020-10-02T18:35:32.846035Z"
    }
   },
   "outputs": [],
   "source": [
    "basic_info_data_all = []\n",
    "contacts_data_all = []\n",
    "experience_data_all = []\n",
    "education_data_all = []\n",
    "language_data_all = []"
   ]
  },
  {
   "cell_type": "code",
   "execution_count": 122,
   "metadata": {
    "ExecuteTime": {
     "end_time": "2020-10-02T19:09:02.831730Z",
     "start_time": "2020-10-02T18:35:33.397577Z"
    }
   },
   "outputs": [
    {
     "name": "stdout",
     "output_type": "stream",
     "text": [
      "0 Sam McMorran 3.47\n",
      "1 Peihwa Lan 4.34\n",
      "2 Will Dai 1.71\n",
      "3 Xiaomin Liu 2.21\n",
      "4 Faye (Fei) Zhao 1.98\n",
      "5 Weiyiping Huang 3.43\n",
      "6 Sean Fu 3.07\n",
      "7 Kaii T. 4.07\n",
      "8 Wendy Wang Mertensmeyer 3.28\n",
      "9 Victoria W. 3.48\n",
      "10 Vanessa Yeo 3.52\n",
      "11 Brandon Ly 2.70\n",
      "12 Violet Hill 3.24\n",
      "13 Ailun S. 1.92\n",
      "14 Lin ZHANG 2.30\n",
      "15 Bryant Mao 1.87\n",
      "16 Yue Yuan 3.51\n",
      "17 Rui Xu 4.15\n",
      "18 Lisa Xue 2.11\n",
      "19 Kiko Zang 2.12\n",
      "20 Fiona Pay 3.97\n",
      "21 Daniel Huang 4.14\n",
      "22 Michelle Shao 2.10\n",
      "23 Federico Duarte 3.86\n",
      "24 Chuli Duan 4.39\n",
      "25 Susie WANG 3.56\n",
      "26 Brian (錢源偉) Chien 2.93\n",
      "27 Yao Chen 3.69\n",
      "28 Jasper Yang 3.34\n",
      "29 Weiyi Li 李玮仪 3.57\n",
      "30 Eileen Wu 2.90\n",
      "31 Mark Logan MP 3.42\n",
      "32 孙莹 Daisy 1.83\n",
      "33 Yunna ( Tea ) Qiu 4.11\n",
      "34 Hang Io 3.85\n",
      "35 Evan Zeng 3.60\n",
      "36 Louis Liu 4.18\n",
      "37 Fangting Gu 3.03\n",
      "38 Rita Yang 3.32\n",
      "39 Alex Xie 3.91\n",
      "40 Hao-Ting Chang 3.64\n",
      "41 Simin Pan 4.36\n",
      "42 Maggie Peng 2.01\n",
      "43 Jaoui Liu 2.55\n",
      "44 Siqi Wang 4.07\n",
      "45 Felix Cheng 3.01\n",
      "46 Amy Ly 2.30\n",
      "47 Winston Chow 1.67\n",
      "48 Sheng-Hung Lee 4.22\n",
      "49 Momo Estrella 3.08\n"
     ]
    }
   ],
   "source": [
    "for i, profile in enumerate(profile_urls):\n",
    "    t = random.uniform(1.5,4.5)\n",
    "    driver.get(profile)\n",
    "    time.sleep(t)\n",
    "    name, title, location = get_basic_info(driver, profile)\n",
    "    print(i, name, '{:.2f}'.format(t))\n",
    "    basic_info_data_all.append([profile, name, title, location])\n",
    "    time.sleep(t)\n",
    "    contact_data = get_contacts(driver, profile, name)\n",
    "    contacts_data_all.extend(contact_data)\n",
    "    driver.execute_script(\"window.scrollTo(0, document.body.scrollHeight/3);\")\n",
    "    time.sleep(2*t)\n",
    "    experience_data = get_experience(driver, profile, name)\n",
    "    experience_data_all.extend(experience_data)\n",
    "    driver.execute_script(\"window.scrollTo(0, 2*document.body.scrollHeight/3);\")\n",
    "    time.sleep(t)\n",
    "    try:\n",
    "        education_data = get_education(driver, profile, name)\n",
    "        education_data_all.extend(education_data)\n",
    "    except: # no education section\n",
    "        continue\n",
    "    driver.execute_script(\"window.scrollTo(0, 3*document.body.scrollHeight/4);\")\n",
    "    time.sleep(t)\n",
    "    language = get_language(driver)\n",
    "    language_data_all.append([profile, name, language])\n",
    "    time.sleep(5*t)"
   ]
  },
  {
   "cell_type": "markdown",
   "metadata": {},
   "source": [
    "# Saving"
   ]
  },
  {
   "cell_type": "code",
   "execution_count": 139,
   "metadata": {
    "ExecuteTime": {
     "end_time": "2020-10-02T20:00:34.904540Z",
     "start_time": "2020-10-02T20:00:34.899488Z"
    }
   },
   "outputs": [
    {
     "data": {
      "text/plain": [
       "True"
      ]
     },
     "execution_count": 139,
     "metadata": {},
     "output_type": "execute_result"
    }
   ],
   "source": []
  },
  {
   "cell_type": "code",
   "execution_count": 132,
   "metadata": {
    "ExecuteTime": {
     "end_time": "2020-10-02T19:15:00.231322Z",
     "start_time": "2020-10-02T19:15:00.221840Z"
    }
   },
   "outputs": [],
   "source": [
    "df_basic_info = pd.DataFrame(basic_info_data_all, \n",
    "                             columns=['URL', 'Name', 'Title', 'Location'])\n",
    "df_contacts = pd.DataFrame(contacts_data_all,\n",
    "                           columns=['URL', 'Name', 'Contact'])\n",
    "df_experience = pd.DataFrame(experience_data_all,\n",
    "                             columns=['URL', 'Name', 'Company', 'Title', \n",
    "                                      'Start Date', 'End Date'])\n",
    "df_education = pd.DataFrame(education_data_all,\n",
    "                            columns=['URL', 'Name', 'Institution', \n",
    "                                     'Degree', 'Field of Study', \n",
    "                                     'Start Year', 'End Year'])\n",
    "df_language = pd.DataFrame(language_data_all,\n",
    "                           columns=['URL', 'Name', 'Language'])"
   ]
  },
  {
   "cell_type": "code",
   "execution_count": 136,
   "metadata": {
    "ExecuteTime": {
     "end_time": "2020-10-02T19:20:42.112052Z",
     "start_time": "2020-10-02T19:20:41.987843Z"
    }
   },
   "outputs": [
    {
     "name": "stderr",
     "output_type": "stream",
     "text": [
      "/Users/alee/.pyenv/versions/3.8.1/envs/linkedin/lib/python3.8/site-packages/xlsxwriter/workbook.py:329: UserWarning: Calling close() on already closed file.\n",
      "  warn(\"Calling close() on already closed file.\")\n"
     ]
    }
   ],
   "source": [
    "# Create a Pandas Excel writer using XlsxWriter as the engine.\n",
    "writer = pd.ExcelWriter('../result/RUI.xlsx', engine='xlsxwriter')\n",
    "\n",
    "# Write each dataframe to a different worksheet. you could write different string like above if you want\n",
    "df_basic_info.to_excel(writer, sheet_name='Basic Info')\n",
    "df_contacts.to_excel(writer, sheet_name='Contacts')\n",
    "df_experience.to_excel(writer, sheet_name='Experience')\n",
    "df_education.to_excel(writer, sheet_name='Education')\n",
    "df_language.to_excel(writer, sheet_name='Language')\n",
    "\n",
    "# Close the Pandas Excel writer and output the Excel file.\n",
    "writer.save()\n",
    "writer.close()"
   ]
  },
  {
   "cell_type": "code",
   "execution_count": null,
   "metadata": {},
   "outputs": [],
   "source": []
  }
 ],
 "metadata": {
  "kernelspec": {
   "display_name": "Python 3",
   "language": "python",
   "name": "python3"
  },
  "language_info": {
   "codemirror_mode": {
    "name": "ipython",
    "version": 3
   },
   "file_extension": ".py",
   "mimetype": "text/x-python",
   "name": "python",
   "nbconvert_exporter": "python",
   "pygments_lexer": "ipython3",
   "version": "3.8.1"
  },
  "toc": {
   "base_numbering": 1,
   "nav_menu": {},
   "number_sections": true,
   "sideBar": true,
   "skip_h1_title": false,
   "title_cell": "Table of Contents",
   "title_sidebar": "Contents",
   "toc_cell": false,
   "toc_position": {},
   "toc_section_display": true,
   "toc_window_display": false
  }
 },
 "nbformat": 4,
 "nbformat_minor": 4
}
